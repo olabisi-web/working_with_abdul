{
 "cells": [
  {
   "cell_type": "code",
   "execution_count": null,
   "id": "899fe3d4",
   "metadata": {
    "vscode": {
     "languageId": "plaintext"
    }
   },
   "outputs": [],
   "source": [
    "print(\"hello world, i am learning python\")"
   ]
  },
  {
   "cell_type": "markdown",
   "id": "76747fbc",
   "metadata": {},
   "source": [
    "print(\"hello world, i am learning python\")"
   ]
  }
 ],
 "metadata": {
  "language_info": {
   "name": "python"
  }
 },
 "nbformat": 4,
 "nbformat_minor": 5
}
